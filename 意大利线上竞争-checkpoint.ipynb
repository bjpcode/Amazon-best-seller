{
 "cells": [
  {
   "cell_type": "code",
   "execution_count": 2,
   "id": "b59d5c53",
   "metadata": {},
   "outputs": [
    {
     "name": "stdout",
     "output_type": "stream",
     "text": [
      "Requirement already satisfied: beautifulsoup4 in c:\\users\\baijinpeng\\anaconda3\\lib\\site-packages (4.10.0)\n",
      "Requirement already satisfied: pandas in c:\\users\\baijinpeng\\anaconda3\\lib\\site-packages (1.3.4)\n",
      "Requirement already satisfied: soupsieve>1.2 in c:\\users\\baijinpeng\\anaconda3\\lib\\site-packages (from beautifulsoup4) (2.2.1)\n",
      "Requirement already satisfied: pytz>=2017.3 in c:\\users\\baijinpeng\\anaconda3\\lib\\site-packages (from pandas) (2021.3)\n",
      "Requirement already satisfied: python-dateutil>=2.7.3 in c:\\users\\baijinpeng\\anaconda3\\lib\\site-packages (from pandas) (2.8.2)\n",
      "Requirement already satisfied: numpy>=1.17.3 in c:\\users\\baijinpeng\\anaconda3\\lib\\site-packages (from pandas) (1.20.3)\n",
      "Requirement already satisfied: six>=1.5 in c:\\users\\baijinpeng\\anaconda3\\lib\\site-packages (from python-dateutil>=2.7.3->pandas) (1.16.0)\n",
      "Note: you may need to restart the kernel to use updated packages.\n"
     ]
    }
   ],
   "source": [
    "pip install beautifulsoup4 pandas"
   ]
  },
  {
   "cell_type": "code",
   "execution_count": 11,
   "id": "fcf2044f",
   "metadata": {},
   "outputs": [],
   "source": [
    "from urllib.request import urlopen, Request\n",
    "from bs4 import BeautifulSoup\n",
    "import pandas as pd\n",
    "import re"
   ]
  },
  {
   "cell_type": "code",
   "execution_count": 4,
   "id": "9050128e",
   "metadata": {},
   "outputs": [],
   "source": [
    "url = 'https://www.amazon.it/gp/bestsellers/electronics/473246031/ref=zg_bs_nav_ce_3_1497228031'"
   ]
  },
  {
   "cell_type": "code",
   "execution_count": 5,
   "id": "5768b2b1",
   "metadata": {},
   "outputs": [],
   "source": [
    "request = Request(url, headers={'User-agent': 'Mozilla/5.0'})\n",
    "html = urlopen(request)"
   ]
  },
  {
   "cell_type": "code",
   "execution_count": 6,
   "id": "41090abd",
   "metadata": {},
   "outputs": [],
   "source": [
    "soup = BeautifulSoup(html, 'html.parser')"
   ]
  },
  {
   "cell_type": "code",
   "execution_count": 7,
   "id": "633fef3c",
   "metadata": {},
   "outputs": [],
   "source": [
    "phones = soup.find_all('div', id=\"gridItemRoot\")"
   ]
  },
  {
   "cell_type": "code",
   "execution_count": null,
   "id": "b24014fa",
   "metadata": {},
   "outputs": [],
   "source": []
  },
  {
   "cell_type": "code",
   "execution_count": 20,
   "id": "834e6017",
   "metadata": {},
   "outputs": [
    {
     "name": "stdout",
     "output_type": "stream",
     "text": [
      "1\n",
      "Title: Samsung Galaxy A22 5G Smartphone 6,6 Pollici , Display Infinity-V FHD+, Telefono Cellulare Android 11, Tripla fotocamera posteriore, 4GB RAM e 64GB, Batteria 5.000 mAh, Gray [Versione Italiana] 2021\n"
     ]
    },
    {
     "ename": "AttributeError",
     "evalue": "'NoneType' object has no attribute 'get_text'",
     "output_type": "error",
     "traceback": [
      "\u001b[1;31m---------------------------------------------------------------------------\u001b[0m",
      "\u001b[1;31mAttributeError\u001b[0m                            Traceback (most recent call last)",
      "\u001b[1;32mC:\\Users\\BAIJIN~1\\AppData\\Local\\Temp/ipykernel_17088/1667282954.py\u001b[0m in \u001b[0;36m<module>\u001b[1;34m\u001b[0m\n\u001b[0;32m      6\u001b[0m          class_=re.compile(\"_cDEzb_p13n-sc-css-line-clamp-\")).get_text(strip=True)\n\u001b[0;32m      7\u001b[0m     \u001b[0mprint\u001b[0m\u001b[1;33m(\u001b[0m\u001b[1;34mf\"Title: {title}\"\u001b[0m\u001b[1;33m)\u001b[0m\u001b[1;33m\u001b[0m\u001b[1;33m\u001b[0m\u001b[0m\n\u001b[1;32m----> 8\u001b[1;33m     \u001b[0mprice\u001b[0m \u001b[1;33m=\u001b[0m \u001b[0mphone\u001b[0m\u001b[1;33m.\u001b[0m\u001b[0mfind\u001b[0m\u001b[1;33m(\u001b[0m\u001b[1;34m'span'\u001b[0m\u001b[1;33m,\u001b[0m \u001b[0mclass_\u001b[0m\u001b[1;33m=\u001b[0m\u001b[1;34m\"_cDEzb_p13n-sc-price-_3mJ9Z\"\u001b[0m\u001b[1;33m)\u001b[0m\u001b[1;33m.\u001b[0m\u001b[0mget_text\u001b[0m\u001b[1;33m(\u001b[0m\u001b[1;33m)\u001b[0m\u001b[1;33m.\u001b[0m\u001b[0mstrip\u001b[0m\u001b[1;33m(\u001b[0m\u001b[1;33m)\u001b[0m\u001b[1;33m\u001b[0m\u001b[1;33m\u001b[0m\u001b[0m\n\u001b[0m\u001b[0;32m      9\u001b[0m     \u001b[0mprint\u001b[0m\u001b[1;33m(\u001b[0m\u001b[0mprice\u001b[0m\u001b[1;33m)\u001b[0m\u001b[1;33m\u001b[0m\u001b[1;33m\u001b[0m\u001b[0m\n",
      "\u001b[1;31mAttributeError\u001b[0m: 'NoneType' object has no attribute 'get_text'"
     ]
    }
   ],
   "source": [
    "for phone in phones:\n",
    "    rank = phone.find('span', class_=\"zg-bdg-text\").get_text().replace('#', '')\n",
    "    print(rank)\n",
    "    title = phone.find(\n",
    "        'div',\n",
    "         class_=re.compile(\"_cDEzb_p13n-sc-css-line-clamp-\")).get_text(strip=True)\n",
    "    print(f\"Title: {title}\")\n",
    "    price = phone.find('span', class_=\"_cDEzb_p13n-sc-price-_3mJ9Z\").get_text().strip()\n",
    "    print(price)"
   ]
  },
  {
   "cell_type": "raw",
   "id": "c41718ba",
   "metadata": {},
   "source": [
    "_cDEzb_p13n-sc-price-_3mJ9Z"
   ]
  },
  {
   "cell_type": "code",
   "execution_count": null,
   "id": "1d9ccea2",
   "metadata": {},
   "outputs": [],
   "source": []
  }
 ],
 "metadata": {
  "kernelspec": {
   "display_name": "Python 3 (ipykernel)",
   "language": "python",
   "name": "python3"
  },
  "language_info": {
   "codemirror_mode": {
    "name": "ipython",
    "version": 3
   },
   "file_extension": ".py",
   "mimetype": "text/x-python",
   "name": "python",
   "nbconvert_exporter": "python",
   "pygments_lexer": "ipython3",
   "version": "3.9.7"
  }
 },
 "nbformat": 4,
 "nbformat_minor": 5
}
